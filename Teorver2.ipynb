{
 "cells": [
  {
   "cell_type": "code",
   "execution_count": null,
   "metadata": {},
   "outputs": [],
   "source": [
    "import math\n",
    "import pandas as pd\n",
    "import plotly\n",
    "import pickle\n",
    "import plotly.plotly as py\n",
    "import plotly.graph_objs as go\n",
    "from plotly.tools import FigureFactory as FF\n",
    "import pylab as pl\n",
    "import statsmodels.api as sm\n",
    "import matplotlib.mlab as mlab\n",
    "import matplotlib.pyplot as plt\n",
    "import seaborn as sns\n",
    "import statistics\n",
    "import scipy\n",
    "import scipy.stats as sp\n",
    "import numpy as np\n",
    "from statsmodels.distributions.empirical_distribution import ECDF\n",
    "plotly.tools.set_credentials_file(username='DrewFrost', api_key='sLdSbThSohcRX6Mnf63L')\n",
    "\n",
    "dataG = pd.read_csv('data/gol11.csv', sep='\\s+')\n",
    "#ПРИЙМАЄМО ЗНАЧЕННЯ ГОЛОСІЇВСЬКОГО РАЙОНУ\n",
    "df1 = pd.DataFrame(dataG)\n",
    "#ПЕРЕВОДИМО ЗНАЧЕННЯ В ТАБЛИЧНУ СТУКТУРУ ДАННИХ\n",
    "mn1 = df1.mean()[0]\n",
    "#ЗНАХОДИМО СЕРЕДНЕ ЗНАЧЕННЯ ПО ГОЛОСІЇВСЬКОМУ РАЙОНУ\n",
    "print('Середне значення по Голосіївському району: {}'.format(mn1))\n",
    "dataS = pd.read_csv('data/svyat11.csv', sep='\\s+')\n",
    "#ПРИЙМАЄМО ЗНАЧЕННЯ ГОЛОСІЇВСЬКОГО РАЙОНУ\n",
    "df2 = pd.DataFrame(dataS)\n",
    "mn2 = df2.mean()[0]\n",
    "#ЗНАХОДИМО СЕРЕДНЕ ЗНАЧЕННЯ ПО ГОЛОСІЇВСЬКОМУ РАЙОНУ\n",
    "print('Середне значення по Святошинському району: {}'.format(mn2))\n",
    "\n",
    "\n",
    "x = np.linspace(0, 30, 100)\n",
    "#ВИЗНАЧАЄМО МАКСИМАЛЬНЕ ТА МІНІМАЛЬНЕ ЗНАЧЕННЯ ПО Х\n",
    "#ТА КІЛЬКІСТЬ ТОЧОК ВІДОБРАЖЕННЯ У ПОБУДОВІ КРИВОЇ\n",
    "y1 = scipy.stats.norm.pdf(x, loc=mn1)\n",
    "#ВИЗНАЧАЄМО ЗНАЧЕННЯ КРИВОЇ ГОЛОСІЇВСЬКОГО РАЙОНУ\n",
    "y2 = scipy.stats.norm.pdf(x, loc=mn2)\n",
    "#ВИЗНАЧАЄМО ЗНАЧЕННЯ КРИВОЇ СВЯТОШИНСЬКОГО  РАЙОНУ\n",
    "#ВВОДИМО АТРИБУТИ ПЕРШОЇ КРИВОЇ\n",
    "trace1 = go.Scatter(\n",
    "    x = x,\n",
    "    y = y1,\n",
    "    mode = 'lines+markers',\n",
    "    name='Нормальний розподіл результатів 11 класу Голосіївського району'\n",
    ")\n",
    "#ВВОДИМО АТРИБУТИ ДРУГОЇ КРИВОЇ\n",
    "trace2 = go.Scatter(\n",
    "    x = x,\n",
    "    y = y2,\n",
    "    mode = 'lines+markers',\n",
    "    name='Нормальний розподіл 11 класу Святошинського району'\n",
    ")\n",
    "\n",
    "data = [trace1, trace2]\n",
    "\n",
    "py.iplot(data, filename='normal-dists-plot')\n",
    "\n",
    "\n",
    "\n",
    "\n",
    "\n",
    "\n",
    "\n",
    "\n"
   ]
  },
  {
   "cell_type": "code",
   "execution_count": null,
   "metadata": {},
   "outputs": [],
   "source": [
    "#ПРОВОДИМО t-test ДЛЯ ЗНАЧЕНЬ ГОЛОСІЇВСЬКОГО ТА СВЯТОШИНСЬКОГО РАЙОНУ\n",
    "twosample_results = scipy.stats.ttest_ind(df1, df2)\n",
    "#ВИЗНАЧАЄМО АТРИБУТИ ТАБЛИЦІ\n",
    "matrix_twosample = [\n",
    "    ['', 'Пропорція різниці між двома групами', 'Рівень значимості'],\n",
    "    ['Значення', twosample_results[0], twosample_results[1]]\n",
    "]\n",
    "#БУДУЄМО ТАБЛИЦЮ З ОТРИМАНИМИ ЗНАЧЕННЯМИ ТА АТРИБУТАМИ\n",
    "twosample_table = FF.create_table(matrix_twosample, index=True)\n",
    "py.iplot(twosample_table, filename='twosample-table')\n"
   ]
  },
  {
   "cell_type": "code",
   "execution_count": null,
   "metadata": {},
   "outputs": [],
   "source": [
    "print('Дисперсія 11 класу Голосіївського району: {}'.format(np.var(df1)[0]))\n",
    "print('Дисперсія 11 класу Святошинського району: {}'.format(np.var(df2)[0]))"
   ]
  },
  {
   "cell_type": "code",
   "execution_count": null,
   "metadata": {},
   "outputs": [],
   "source": []
  },
  {
   "cell_type": "code",
   "execution_count": 16,
   "metadata": {},
   "outputs": [
    {
     "name": "stdout",
     "output_type": "stream",
     "text": [
      "Середне значення по 11 класу з районів участників: 9.300653594771243\n"
     ]
    }
   ],
   "source": [
    "#ЗЧИТУЄМО ТАБЛИЦЮ З УСІМА ЗНАЧЕННЯ БАЛІВ ЗА 11 КЛАС\n",
    "dataA = pd.read_csv('data/All.csv', sep='\\s+')\n",
    "dfa = pd.DataFrame(dataA)\n",
    "mn3 = dfa.mean()[0]\n",
    "print('Середне значення по 11 класу з районів участників: {}'.format(mn3))"
   ]
  },
  {
   "cell_type": "code",
   "execution_count": null,
   "metadata": {},
   "outputs": [],
   "source": [
    "x = np.linspace(0,30, 100)\n",
    "y1 = scipy.stats.norm.pdf(x, loc=mn3)\n",
    "#ВИЗНАЧАЄМО ЗНАЧЕННЯ КРИВОЇ З УСІХ РАЙОНІВ\n",
    "y2 = scipy.stats.norm.pdf(x, loc=mn1)\n",
    "#ВИЗНАЧАЄМО ЗНАЧЕННЯ КРИВОЇ ГОЛОСІЇВСЬКОГО РАЙОНУ  РАЙОНУ\n",
    "trace3 = go.Scatter(\n",
    "    x = x,\n",
    "    y = y1,\n",
    "    mode = 'lines+markers',\n",
    "    name='Нормальний розподіл результатів 11 класу з усіх районів'\n",
    ")\n",
    "trace4 = go.Scatter(\n",
    "    x = x,\n",
    "    y = y2,\n",
    "    mode = 'lines+markers',\n",
    "    name='Нормальний розподіл 11 класу Голосіївського району'\n",
    ")\n",
    "data = [trace3, trace4]\n",
    "py.iplot(data, filename='normal-dists-plot-all1')\n"
   ]
  },
  {
   "cell_type": "code",
   "execution_count": null,
   "metadata": {},
   "outputs": [],
   "source": [
    "#ПРОВОДИМО t-test ДЛЯ ЗНАЧЕНЬ \n",
    "twosample_results = scipy.stats.ttest_ind(dfa, df1)\n",
    "matrix_twosample = [\n",
    "    ['', 'Пропорція різниці між двома групами', 'Рівень значимості'],\n",
    "    ['Значення', twosample_results[0], twosample_results[1]]\n",
    "]\n",
    "\n",
    "twosample_table = FF.create_table(matrix_twosample, index=True)\n",
    "py.iplot(twosample_table, filename='twosample-table')"
   ]
  },
  {
   "cell_type": "code",
   "execution_count": null,
   "metadata": {},
   "outputs": [],
   "source": [
    "twosample_results = scipy.stats.ttest_ind(dfa, df2)\n",
    "matrix_twosample = [\n",
    "    ['', 'Пропорція різниці між двома групами', 'Рівень значимості'],\n",
    "    ['Значення', twosample_results[0], twosample_results[1]]\n",
    "]\n",
    "\n",
    "twosample_table = FF.create_table(matrix_twosample, index=True)\n",
    "py.iplot(twosample_table, filename='twosample-table')"
   ]
  },
  {
   "cell_type": "code",
   "execution_count": null,
   "metadata": {},
   "outputs": [],
   "source": [
    "print('Дисперсія 11 класу з усіх районі: {}'.format(np.var(dfa)[0]))"
   ]
  },
  {
   "cell_type": "code",
   "execution_count": null,
   "metadata": {},
   "outputs": [],
   "source": [
    "x = np.linspace(0, 40, 100)\n",
    "#ВИЗНАЧАЄМО МАКСИМАЛЬНЕ ТА МІНІМАЛЬНЕ ЗНАЧЕННЯ ПО Х\n",
    "#ТА КІЛЬКІСТЬ ТОЧОК ВІДОБРАЖЕННЯ У ПОБУДОВІ КРИВОЇ\n",
    "y1 = scipy.stats.norm.pdf(x, loc=mn3)\n",
    "#ВИЗНАЧАЄМО ЗНАЧЕННЯ КРИВОЇ З УСІХ РАЙОНІВ\n",
    "y2 = scipy.stats.norm.pdf(x, loc=mn2)\n",
    "#ВИЗНАЧАЄМО ЗНАЧЕННЯ КРИВОЇ СВЯТОШИНСЬКОГО РАЙОНУ  РАЙОНУ\n",
    "trace3 = go.Scatter(\n",
    "    x = x,\n",
    "    y = y1,\n",
    "    mode = 'lines+markers',\n",
    "    name='Нормальний розподіл результатів 11 класу з усіх районів'\n",
    ")\n",
    "\n",
    "trace4 = go.Scatter(\n",
    "    x = x,\n",
    "    y = y2,\n",
    "    mode = 'lines+markers',\n",
    "    name='Нормальний розподіл 11 класу Святошинського району'\n",
    ")\n",
    "\n",
    "data = [trace3, trace4]\n",
    "\n",
    "py.iplot(data, filename='normal-dists-plot-all1')"
   ]
  },
  {
   "cell_type": "code",
   "execution_count": 17,
   "metadata": {},
   "outputs": [],
   "source": [
    "def Ftest_pvalue_rpy2(d1,d2):\n",
    "    \"\"\"docstring for Ftest_pvalue_rpy2\"\"\"\n",
    "    rd1 = (robjects.FloatVector(d1))\n",
    "    rd2 = (robjects.FloatVector(d2))\n",
    "    rvtest = robjects.r['var.test']\n",
    "    return rvtest(rd1,rd2)[2][0]\n",
    "    "
   ]
  },
  {
   "cell_type": "code",
   "execution_count": 18,
   "metadata": {},
   "outputs": [
    {
     "data": {
      "text/plain": [
       "Values    0.080121\n",
       "dtype: float64"
      ]
     },
     "execution_count": 18,
     "metadata": {},
     "output_type": "execute_result"
    }
   ],
   "source": [
    "def fisher_criterion(v1, v2):\n",
    "    return abs(np.mean(v1) - np.mean(v2)) / (np.var(v1) + np.var(v2))\n",
    "fisher_criterion(df1,df2)"
   ]
  },
  {
   "cell_type": "code",
   "execution_count": 19,
   "metadata": {},
   "outputs": [
    {
     "name": "stdout",
     "output_type": "stream",
     "text": [
      "Дисперсія 11 класу Голосіївського району: 24.635160680529303\n",
      "Дисперсія 11 класу Святошинського району: 25.9305785123967\n",
      "Дисперсія 11 класу з усіх районів: 37.700457089153744\n"
     ]
    }
   ],
   "source": [
    "print('Дисперсія 11 класу Голосіївського району: {}'.format(np.var(df1)[0]))\n",
    "print('Дисперсія 11 класу Святошинського району: {}'.format(np.var(df2)[0]))\n",
    "print('Дисперсія 11 класу з усіх районів: {}'.format(np.var(dfa)[0]))"
   ]
  },
  {
   "cell_type": "code",
   "execution_count": 21,
   "metadata": {},
   "outputs": [
    {
     "name": "stderr",
     "output_type": "stream",
     "text": [
      "/Library/Frameworks/Python.framework/Versions/3.7/lib/python3.7/site-packages/IPython/core/display.py:689: UserWarning:\n",
      "\n",
      "Consider using IPython.display.IFrame instead\n",
      "\n"
     ]
    },
    {
     "data": {
      "text/html": [
       "<iframe id=\"igraph\" scrolling=\"no\" style=\"border:none;\" seamless=\"seamless\" src=\"https://plot.ly/~DrewFrost/22.embed\" height=\"525px\" width=\"100%\"></iframe>"
      ],
      "text/plain": [
       "<plotly.tools.PlotlyDisplay object>"
      ]
     },
     "execution_count": 21,
     "metadata": {},
     "output_type": "execute_result"
    }
   ],
   "source": [
    "#ПЕРЕВОДИМО ІНФОРМАЦІЮ В МАСИВ ПОТРІБНОГО ТИПУ\n",
    "arr1= np.array(df1)\n",
    "arr2= np.array(df2)\n",
    "arr3= np.array(dfa)\n",
    "#ЗАПИСУЄМО ЗНАЧЕННЯ В ОКРЕМІ ЗМІННІ\n",
    "y0 = arr1\n",
    "y1 = arr2\n",
    "y2 = arr3\n",
    "#БУДУЄМО КОРОБКОВІ ГРАФІКИ ПО ЗНАЧЕННЯМ\n",
    "trace0 = go.Box(\n",
    "    y=y0,\n",
    "    name = \"Голосіївський район\"\n",
    ")\n",
    "trace1 = go.Box(\n",
    "    y=y1,\n",
    "    name = \"Святошинський район\"\n",
    ")\n",
    "trace2 = go.Box(\n",
    "    y=y2,\n",
    "    name = \"З усіх районів\"\n",
    ")\n",
    "#ВИВОДИМО ПОТРІБНІ КОРОБКОВІ ГРАФІКИ\n",
    "data = [trace0, trace1, trace2]\n",
    "py.iplot(data)"
   ]
  },
  {
   "cell_type": "code",
   "execution_count": 25,
   "metadata": {},
   "outputs": [
    {
     "name": "stderr",
     "output_type": "stream",
     "text": [
      "/Library/Frameworks/Python.framework/Versions/3.7/lib/python3.7/site-packages/IPython/core/display.py:689: UserWarning:\n",
      "\n",
      "Consider using IPython.display.IFrame instead\n",
      "\n"
     ]
    },
    {
     "data": {
      "text/html": [
       "<iframe id=\"igraph\" scrolling=\"no\" style=\"border:none;\" seamless=\"seamless\" src=\"https://plot.ly/~DrewFrost/12.embed\" height=\"525px\" width=\"100%\"></iframe>"
      ],
      "text/plain": [
       "<plotly.tools.PlotlyDisplay object>"
      ]
     },
     "execution_count": 25,
     "metadata": {},
     "output_type": "execute_result"
    }
   ],
   "source": [
    "#ЗАПИСУЄМО ЗНАЧЕННЯ В ЗМІНІ\n",
    "x0=arr1\n",
    "x1=arr2\n",
    "x2=arr3\n",
    "#БУДУЄМО ГІСТОГРАМИ\n",
    "trace0 = go.Histogram(\n",
    "    x=x0,\n",
    "    opacity=0.75,\n",
    "    name=\"Голосіїівський\"\n",
    ")\n",
    "trace1 = go.Histogram(\n",
    "    x=x1,\n",
    "    opacity=0.75,\n",
    "    name = \"Святошинський\"\n",
    ")\n",
    "trace2 = go.Histogram(\n",
    "    x=x2,\n",
    "    opacity=0.75,\n",
    "    name = \"Всі райони\"  \n",
    ")\n",
    "#ВИВОДИМО ГІСТРОГРАМИ\n",
    "data = [trace0, trace1, trace2]\n",
    "layout = go.Layout(barmode='stack')\n",
    "fig = go.Figure(data=data, layout=layout)\n",
    "py.iplot(fig, filename='stacked histogram')"
   ]
  },
  {
   "cell_type": "code",
   "execution_count": 26,
   "metadata": {},
   "outputs": [
    {
     "data": {
      "image/png": "[encoded data removed]",
      "text/plain": [
       "<Figure size 432x288 with 1 Axes>"
      ]
     },
     "metadata": {
      "needs_background": "light"
     },
     "output_type": "display_data"
    }
   ],
   "source": [
    "sm.qqplot(df1)\n",
    "plt.show()"
   ]
  },
  {
   "cell_type": "code",
   "execution_count": 27,
   "metadata": {},
   "outputs": [
    {
     "data": {
      "image/png": "[encoded data removed]",
      "text/plain": [
       "<Figure size 432x288 with 1 Axes>"
      ]
     },
     "metadata": {
      "needs_background": "light"
     },
     "output_type": "display_data"
    }
   ],
   "source": [
    "sm.qqplot(df2)\n",
    "plt.show()"
   ]
  },
  {
   "cell_type": "code",
   "execution_count": 29,
   "metadata": {},
   "outputs": [
    {
     "data": {
      "image/png": "[encoded data removed]",
      "text/plain": [
       "<Figure size 432x288 with 1 Axes>"
      ]
     },
     "metadata": {
      "needs_background": "light"
     },
     "output_type": "display_data"
    }
   ],
   "source": [
    "sm.qqplot(dfa)\n",
    "plt.show()"
   ]
  },
  {
   "cell_type": "code",
   "execution_count": null,
   "metadata": {},
   "outputs": [],
   "source": []
  }
 ],
 "metadata": {
  "kernelspec": {
   "display_name": "Python 3",
   "language": "python",
   "name": "python3"
  },
  "language_info": {
   "codemirror_mode": {
    "name": "ipython",
    "version": 3
   },
   "file_extension": ".py",
   "mimetype": "text/x-python",
   "name": "python",
   "nbconvert_exporter": "python",
   "pygments_lexer": "ipython3",
   "version": "3.7.2"
  }
 },
 "nbformat": 4,
 "nbformat_minor": 2
}
